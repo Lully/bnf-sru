{
 "cells": [
  {
   "cell_type": "code",
   "execution_count": 1,
   "id": "49a99db5-44a6-4d9b-adbb-dbf155c90f7a",
   "metadata": {},
   "outputs": [],
   "source": [
    "import pandas as pd\n",
    "from collections import defaultdict\n",
    "from stdf import *"
   ]
  },
  {
   "cell_type": "code",
   "execution_count": 2,
   "id": "8f4d4f24-1fcc-45cf-9758-9c6046bdd155",
   "metadata": {},
   "outputs": [],
   "source": [
    "# df = pd.read_excel(\"20240308.xlsx\", dtype=str)\n",
    "df = pd.read_excel(\"20240308_2.xlsx\", dtype=str)\n",
    "df = df.fillna(\"\")"
   ]
  },
  {
   "cell_type": "code",
   "execution_count": 3,
   "id": "75f848e3-052f-4e4e-a2f7-8a5fc9cf08ee",
   "metadata": {},
   "outputs": [],
   "source": [
    "ref = pd.read_csv(\"referentiel043.txt\", delimiter=\"\\t\")"
   ]
  },
  {
   "cell_type": "code",
   "execution_count": 4,
   "id": "1ddfef93-e004-4db9-8755-c35442768395",
   "metadata": {},
   "outputs": [],
   "source": [
    "ref043 = defaultdict(list)\n",
    "for i, row in ref.iterrows():\n",
    "    zone = row[\"zone\"]\n",
    "    ref043[zone].append(row[\"code\"])"
   ]
  },
  {
   "cell_type": "code",
   "execution_count": 5,
   "id": "c03e4961-ff38-493f-b938-edbc8fef5ceb",
   "metadata": {},
   "outputs": [
    {
     "name": "stdout",
     "output_type": "stream",
     "text": [
      "ark:/12148/cb18053072w 060 -- g chreti - ['f relig', 'g chreti']\n",
      "ark:/12148/cb18053125n 060 -- g chreti - ['f relig', 'g chreti']\n",
      "ark:/12148/cb18053107q 060 -- g chreti - ['f livli', 'g chreti']\n",
      "ark:/12148/cb12460353s 064 -- c abcde - ['a ices', 'c abcde']\n",
      "ark:/12148/cb18117359t 060 -- g chreti - ['f theol', 'g chreti']\n",
      "ark:/12148/cb18053597m 060 -- g chreti - ['c biogr', 'f relig', 'g chreti']\n",
      "ark:/12148/cb12246168z 060 -- g chreti - ['f confe', 'g chreti']\n",
      "ark:/12148/cb17839626n 060 -- g chreti - ['f patro', 'g chreti']\n",
      "ark:/12148/cb178390489 060 -- g chreti - ['f relig', 'g chreti']\n"
     ]
    }
   ],
   "source": [
    "ref_manquants = set()\n",
    "for i, row in df.iterrows():\n",
    "    ark = row[\"ark\"]\n",
    "    zone = str(row[\"étiquette 06X\"].replace(\".0\", \"\")).zfill(3)\n",
    "    values = str(row[\"nouvelle 06X\"])\n",
    "    values = [el.strip() for el in values.split(\"$\")]\n",
    "    values = [el.strip() for el in values if len(el.strip())]\n",
    "    if zone and values:\n",
    "        for value in values:\n",
    "            subf = value[0]\n",
    "            val = value[1:].strip()\n",
    "            if val not in ref043[f\"{zone}${subf}\"]:\n",
    "                print(ark, zone, \"--\", value, \"-\", values)\n",
    "                ref_manquants.add(f\"{zone}${subf} {val}\")"
   ]
  },
  {
   "cell_type": "code",
   "execution_count": 6,
   "id": "67b40418-9c91-40d1-b8bc-b098090443e5",
   "metadata": {},
   "outputs": [
    {
     "data": {
      "text/plain": [
       "{'060$g chreti', '064$c abcde'}"
      ]
     },
     "execution_count": 6,
     "metadata": {},
     "output_type": "execute_result"
    }
   ],
   "source": [
    "ref_manquants"
   ]
  },
  {
   "cell_type": "code",
   "execution_count": null,
   "id": "3909231b-9758-47a2-a43f-e53fdac55f80",
   "metadata": {},
   "outputs": [],
   "source": []
  }
 ],
 "metadata": {
  "kernelspec": {
   "display_name": "Python 3 (ipykernel)",
   "language": "python",
   "name": "python3"
  },
  "language_info": {
   "codemirror_mode": {
    "name": "ipython",
    "version": 3
   },
   "file_extension": ".py",
   "mimetype": "text/x-python",
   "name": "python",
   "nbconvert_exporter": "python",
   "pygments_lexer": "ipython3",
   "version": "3.10.10"
  }
 },
 "nbformat": 4,
 "nbformat_minor": 5
}

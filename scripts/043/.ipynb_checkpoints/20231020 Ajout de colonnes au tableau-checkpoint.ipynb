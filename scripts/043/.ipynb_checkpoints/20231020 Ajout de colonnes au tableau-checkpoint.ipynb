{
 "cells": [
  {
   "cell_type": "code",
   "execution_count": 13,
   "id": "d1dad646",
   "metadata": {},
   "outputs": [],
   "source": [
    "from csv import reader\n",
    "from stdf import *\n",
    "import pandas as pd\n",
    "\n",
    "headers = [\"ark\", \"type notice\", \"ancienne 043\", \"nouvelle 043\", \"043 modifiée ?\", \"étiquette 06X\", \"actuelle 06X\", \"nouvelle 06X\", \"06X modifiée ?\", \"nouvelle 630\", \" nouvelle 631\", \"autres modifs\", \"ancienne notice\", \"nouvelle notice\"]\n"
   ]
  },
  {
   "cell_type": "code",
   "execution_count": 14,
   "id": "e13cbf2b",
   "metadata": {},
   "outputs": [
    {
     "name": "stdout",
     "output_type": "stream",
     "text": [
      "['ark', 'type notice', 'ancienne 043', 'nouvelle 043', '043 modifiée ?', 'étiquette 06X', 'actuelle 06X', 'nouvelle 06X', '06X modifiée ?', 'nouvelle 630', ' nouvelle 631', 'autres modifs', 'ancienne notice', 'nouvelle notice']\n"
     ]
    }
   ],
   "source": [
    "fname = \"20231020.tsv\"\n",
    "xlsname = \"20231020.xlsx\"\n",
    "new_table = create_file(fname, headers)"
   ]
  },
  {
   "cell_type": "code",
   "execution_count": 15,
   "id": "e1a89cc0",
   "metadata": {},
   "outputs": [],
   "source": [
    "def get0XX(record, fieldname):\n",
    "    old_value = \"\"\n",
    "    for field in record.split(\"\\n\"):\n",
    "        field = field.strip()\n",
    "        zone = field[0:3]\n",
    "        value = field[3:].strip()\n",
    "        if zone.startswith(fieldname):\n",
    "            old_value = value\n",
    "    return old_value"
   ]
  },
  {
   "cell_type": "code",
   "execution_count": 16,
   "id": "88c94ad6",
   "metadata": {},
   "outputs": [],
   "source": [
    "with open(\"20230927.tsv\", encoding=\"utf-8\") as file:\n",
    "    content = reader(file, delimiter=\"\\t\")\n",
    "    next(content)\n",
    "    for row in content:\n",
    "        old043 = get0XX(row[8], \"043\")\n",
    "        old06X = get0XX(row[8], \"06\")\n",
    "        new043 = row[2]\n",
    "        new06X = row[4].replace(\"['\", \"\").replace(\"']\", \"\").replace(\"', '\", ' ')\n",
    "        equ043 = [\"oui\", \"non\"][old043 == new043]\n",
    "        equ06X = [\"oui\", \"non\"][old06X == new06X]\n",
    "        etiquette06X = row[3]\n",
    "        if etiquette06X:\n",
    "            etiquette06X = str(etiquette06X.zfill(000))\n",
    "        if \"->\" in new043:\n",
    "            new043 = \"$o mi\"\n",
    "            equ043 = \"oui\"\n",
    "            etiquette06X = \"065\"\n",
    "            new06X = '$a bddes'\n",
    "            equ06X = \"oui\"\n",
    "        \n",
    "        new_row = [row[0], row[1], old043, new043, equ043, etiquette06X, old06X, new06X, \n",
    "                   equ06X, row[5], row[6], row[7], f\"\\\"{row[8]}\\\"\", f\"\\\"{row[9]}\\\"\"]\n",
    "        new_row = [row[0], row[1], old043, new043, equ043, etiquette06X, old06X, new06X, \n",
    "                   equ06X, row[5], row[6], row[7], row[8].replace(\"\\n\", \"¤\"), row[9].replace(\"\\n\", \"¤\")]\n",
    "\n",
    "        line2report(new_row, new_table, display=False)\n",
    "        "
   ]
  },
  {
   "cell_type": "code",
   "execution_count": 17,
   "id": "aa9e44c3",
   "metadata": {},
   "outputs": [],
   "source": [
    "df = pd.read_csv(fname, encoding=\"utf-8\", delimiter=\"\\t\", dtype=str)\n",
    "df = df.fillna(\"\")\n",
    "df.to_excel(xlsname, index=None)"
   ]
  },
  {
   "cell_type": "code",
   "execution_count": null,
   "id": "bb280c7c",
   "metadata": {},
   "outputs": [],
   "source": []
  }
 ],
 "metadata": {
  "kernelspec": {
   "display_name": "Python 3 (ipykernel)",
   "language": "python",
   "name": "python3"
  },
  "language_info": {
   "codemirror_mode": {
    "name": "ipython",
    "version": 3
   },
   "file_extension": ".py",
   "mimetype": "text/x-python",
   "name": "python",
   "nbconvert_exporter": "python",
   "pygments_lexer": "ipython3",
   "version": "3.10.10"
  }
 },
 "nbformat": 4,
 "nbformat_minor": 5
}
